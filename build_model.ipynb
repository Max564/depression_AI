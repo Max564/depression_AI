{
 "cells": [
  {
   "cell_type": "code",
   "execution_count": 1,
   "id": "c9b5e585-26a0-4bba-bcb6-b72be5529234",
   "metadata": {},
   "outputs": [],
   "source": [
    "import numpy as np, pandas as pd ,tensorflow as tf, sklearn as sk, matplotlib as mat"
   ]
  },
  {
   "cell_type": "code",
   "execution_count": 2,
   "id": "1cec51e8-9c1d-4ef2-8eea-d100abacf99b",
   "metadata": {},
   "outputs": [],
   "source": [
    "from sklearn.model_selection import train_test_split\n",
    "from sklearn.preprocessing import StandardScaler, MinMaxScaler\n",
    "import os\n",
    "from sklearn.compose import ColumnTransformer\n",
    "from sklearn.preprocessing import StandardScaler, OneHotEncoder"
   ]
  },
  {
   "cell_type": "code",
   "execution_count": 3,
   "id": "6355bf0d-c05b-4d34-ad22-f881f39735c9",
   "metadata": {},
   "outputs": [],
   "source": [
    "os.chdir(\"/Users/mostafa/project\")\n",
    "data = pd.read_csv('data.csv')"
   ]
  },
  {
   "cell_type": "code",
   "execution_count": 4,
   "id": "60ceac76-1cf2-431a-b08b-47a6a48c5e59",
   "metadata": {},
   "outputs": [],
   "source": [
    "X = data.drop([\"id\",\"Depression\"], axis=1)\n",
    "y = data[\"Depression\"]"
   ]
  },
  {
   "cell_type": "code",
   "execution_count": 5,
   "id": "8473cbfe-7183-4a98-a9ac-dc70f26061c3",
   "metadata": {},
   "outputs": [],
   "source": [
    "X_train, X_test, y_train, y_test = train_test_split(X, y, test_size=0.2, random_state=42,stratify=y )"
   ]
  },
  {
   "cell_type": "code",
   "execution_count": null,
   "id": "f2a42c37-f0f8-40b6-a89a-31063881c89e",
   "metadata": {},
   "outputs": [],
   "source": []
  },
  {
   "cell_type": "code",
   "execution_count": 6,
   "id": "af4c9a19-5f2f-4d0e-86b7-9fd791c0eb44",
   "metadata": {},
   "outputs": [],
   "source": [
    "categorical_cols = [\"Gender\", \"City\", \"Sleep Duration\", \"Dietary Habits\", \"Degree\"]\n",
    "numerical_cols = []\n",
    "for i in data.columns:\n",
    "    if (i not in categorical_cols):\n",
    "        numerical_cols.append(i)\n",
    "numerical_cols.remove(\"id\")\n",
    "numerical_cols.remove(\"Depression\")"
   ]
  },
  {
   "cell_type": "code",
   "execution_count": 7,
   "id": "e86bdad5-b722-4154-aa6b-13aa993b728b",
   "metadata": {},
   "outputs": [],
   "source": [
    "preprocessor = ColumnTransformer(\n",
    "    transformers=[\n",
    "        ('num', StandardScaler(), numerical_cols),\n",
    "        ('cat', OneHotEncoder(), categorical_cols)\n",
    "    ])"
   ]
  },
  {
   "cell_type": "code",
   "execution_count": 8,
   "id": "f33971bc-a57f-4c56-b456-9da8190d5428",
   "metadata": {},
   "outputs": [],
   "source": [
    "# Fit on training data only!\n",
    "preprocessor.fit(X_train)\n",
    "\n",
    "# Transform both train and test\n",
    "X_train_processed = preprocessor.transform(X_train)\n",
    "X_test_processed = preprocessor.transform(X_test)"
   ]
  },
  {
   "cell_type": "code",
   "execution_count": 35,
   "id": "7080e895-e753-4d59-80bc-bfebb91ebf90",
   "metadata": {},
   "outputs": [
    {
     "name": "stderr",
     "output_type": "stream",
     "text": [
      "C:\\Users\\mostafa\\AppData\\Local\\Programs\\Python\\Python312\\Lib\\site-packages\\keras\\src\\layers\\core\\dense.py:87: UserWarning: Do not pass an `input_shape`/`input_dim` argument to a layer. When using Sequential models, prefer using an `Input(shape)` object as the first layer in the model instead.\n",
      "  super().__init__(activity_regularizer=activity_regularizer, **kwargs)\n"
     ]
    }
   ],
   "source": [
    "from tensorflow.keras.models import Sequential\n",
    "from tensorflow.keras.layers import Dense, Dropout\n",
    "\n",
    "model = Sequential([\n",
    "    Dense(64, activation='relu', input_shape=(X_train_processed.shape[1],)),\n",
    "    Dropout(0.2),\n",
    "    Dense(32, activation='relu'),\n",
    "    Dense(1, activation='sigmoid')  # for binary classification\n",
    "])\n"
   ]
  },
  {
   "cell_type": "code",
   "execution_count": 36,
   "id": "21d1173a-e25a-4e48-a0e2-2e9f048a8bf8",
   "metadata": {},
   "outputs": [],
   "source": [
    "model.compile(\n",
    "    optimizer='adam',  # or 'sgd', 'rmsprop'\n",
    "    loss='binary_crossentropy',  # 'categorical_crossentropy' for multi-class\n",
    "    metrics=['accuracy']\n",
    ")"
   ]
  },
  {
   "cell_type": "code",
   "execution_count": 37,
   "id": "a6058b15-0d54-480b-8c0d-a2ff370fd2fb",
   "metadata": {},
   "outputs": [
    {
     "name": "stdout",
     "output_type": "stream",
     "text": [
      "Epoch 1/50\n",
      "\u001b[1m696/696\u001b[0m \u001b[32m━━━━━━━━━━━━━━━━━━━━\u001b[0m\u001b[37m\u001b[0m \u001b[1m7s\u001b[0m 2ms/step - accuracy: 0.8079 - loss: 0.4345 - val_accuracy: 0.8472 - val_loss: 0.3543\n",
      "Epoch 2/50\n",
      "\u001b[1m696/696\u001b[0m \u001b[32m━━━━━━━━━━━━━━━━━━━━\u001b[0m\u001b[37m\u001b[0m \u001b[1m1s\u001b[0m 2ms/step - accuracy: 0.8464 - loss: 0.3554 - val_accuracy: 0.8484 - val_loss: 0.3548\n",
      "Epoch 3/50\n",
      "\u001b[1m696/696\u001b[0m \u001b[32m━━━━━━━━━━━━━━━━━━━━\u001b[0m\u001b[37m\u001b[0m \u001b[1m1s\u001b[0m 2ms/step - accuracy: 0.8469 - loss: 0.3550 - val_accuracy: 0.8484 - val_loss: 0.3554\n",
      "Epoch 4/50\n",
      "\u001b[1m696/696\u001b[0m \u001b[32m━━━━━━━━━━━━━━━━━━━━\u001b[0m\u001b[37m\u001b[0m \u001b[1m1s\u001b[0m 2ms/step - accuracy: 0.8536 - loss: 0.3429 - val_accuracy: 0.8450 - val_loss: 0.3570\n",
      "Epoch 5/50\n",
      "\u001b[1m696/696\u001b[0m \u001b[32m━━━━━━━━━━━━━━━━━━━━\u001b[0m\u001b[37m\u001b[0m \u001b[1m1s\u001b[0m 2ms/step - accuracy: 0.8564 - loss: 0.3410 - val_accuracy: 0.8461 - val_loss: 0.3565\n",
      "Epoch 6/50\n",
      "\u001b[1m696/696\u001b[0m \u001b[32m━━━━━━━━━━━━━━━━━━━━\u001b[0m\u001b[37m\u001b[0m \u001b[1m1s\u001b[0m 2ms/step - accuracy: 0.8475 - loss: 0.3485 - val_accuracy: 0.8466 - val_loss: 0.3605\n",
      "Epoch 7/50\n",
      "\u001b[1m696/696\u001b[0m \u001b[32m━━━━━━━━━━━━━━━━━━━━\u001b[0m\u001b[37m\u001b[0m \u001b[1m1s\u001b[0m 2ms/step - accuracy: 0.8520 - loss: 0.3430 - val_accuracy: 0.8448 - val_loss: 0.3601\n",
      "Epoch 8/50\n",
      "\u001b[1m696/696\u001b[0m \u001b[32m━━━━━━━━━━━━━━━━━━━━\u001b[0m\u001b[37m\u001b[0m \u001b[1m1s\u001b[0m 2ms/step - accuracy: 0.8560 - loss: 0.3366 - val_accuracy: 0.8443 - val_loss: 0.3585\n",
      "Epoch 9/50\n",
      "\u001b[1m696/696\u001b[0m \u001b[32m━━━━━━━━━━━━━━━━━━━━\u001b[0m\u001b[37m\u001b[0m \u001b[1m3s\u001b[0m 2ms/step - accuracy: 0.8585 - loss: 0.3308 - val_accuracy: 0.8436 - val_loss: 0.3626\n",
      "Epoch 10/50\n",
      "\u001b[1m696/696\u001b[0m \u001b[32m━━━━━━━━━━━━━━━━━━━━\u001b[0m\u001b[37m\u001b[0m \u001b[1m1s\u001b[0m 2ms/step - accuracy: 0.8587 - loss: 0.3303 - val_accuracy: 0.8454 - val_loss: 0.3631\n",
      "Epoch 11/50\n",
      "\u001b[1m696/696\u001b[0m \u001b[32m━━━━━━━━━━━━━━━━━━━━\u001b[0m\u001b[37m\u001b[0m \u001b[1m1s\u001b[0m 2ms/step - accuracy: 0.8556 - loss: 0.3346 - val_accuracy: 0.8452 - val_loss: 0.3640\n",
      "Epoch 12/50\n",
      "\u001b[1m696/696\u001b[0m \u001b[32m━━━━━━━━━━━━━━━━━━━━\u001b[0m\u001b[37m\u001b[0m \u001b[1m1s\u001b[0m 2ms/step - accuracy: 0.8583 - loss: 0.3265 - val_accuracy: 0.8450 - val_loss: 0.3680\n",
      "Epoch 13/50\n",
      "\u001b[1m696/696\u001b[0m \u001b[32m━━━━━━━━━━━━━━━━━━━━\u001b[0m\u001b[37m\u001b[0m \u001b[1m1s\u001b[0m 2ms/step - accuracy: 0.8578 - loss: 0.3270 - val_accuracy: 0.8452 - val_loss: 0.3678\n",
      "Epoch 14/50\n",
      "\u001b[1m696/696\u001b[0m \u001b[32m━━━━━━━━━━━━━━━━━━━━\u001b[0m\u001b[37m\u001b[0m \u001b[1m1s\u001b[0m 2ms/step - accuracy: 0.8597 - loss: 0.3206 - val_accuracy: 0.8434 - val_loss: 0.3718\n",
      "Epoch 15/50\n",
      "\u001b[1m696/696\u001b[0m \u001b[32m━━━━━━━━━━━━━━━━━━━━\u001b[0m\u001b[37m\u001b[0m \u001b[1m1s\u001b[0m 2ms/step - accuracy: 0.8641 - loss: 0.3177 - val_accuracy: 0.8468 - val_loss: 0.3714\n",
      "Epoch 16/50\n",
      "\u001b[1m696/696\u001b[0m \u001b[32m━━━━━━━━━━━━━━━━━━━━\u001b[0m\u001b[37m\u001b[0m \u001b[1m1s\u001b[0m 2ms/step - accuracy: 0.8608 - loss: 0.3222 - val_accuracy: 0.8446 - val_loss: 0.3714\n",
      "Epoch 17/50\n",
      "\u001b[1m696/696\u001b[0m \u001b[32m━━━━━━━━━━━━━━━━━━━━\u001b[0m\u001b[37m\u001b[0m \u001b[1m1s\u001b[0m 2ms/step - accuracy: 0.8646 - loss: 0.3137 - val_accuracy: 0.8427 - val_loss: 0.3704\n",
      "Epoch 18/50\n",
      "\u001b[1m696/696\u001b[0m \u001b[32m━━━━━━━━━━━━━━━━━━━━\u001b[0m\u001b[37m\u001b[0m \u001b[1m1s\u001b[0m 2ms/step - accuracy: 0.8670 - loss: 0.3142 - val_accuracy: 0.8398 - val_loss: 0.3734\n",
      "Epoch 19/50\n",
      "\u001b[1m696/696\u001b[0m \u001b[32m━━━━━━━━━━━━━━━━━━━━\u001b[0m\u001b[37m\u001b[0m \u001b[1m1s\u001b[0m 2ms/step - accuracy: 0.8652 - loss: 0.3119 - val_accuracy: 0.8425 - val_loss: 0.3758\n",
      "Epoch 20/50\n",
      "\u001b[1m696/696\u001b[0m \u001b[32m━━━━━━━━━━━━━━━━━━━━\u001b[0m\u001b[37m\u001b[0m \u001b[1m3s\u001b[0m 2ms/step - accuracy: 0.8655 - loss: 0.3128 - val_accuracy: 0.8436 - val_loss: 0.3752\n",
      "Epoch 21/50\n",
      "\u001b[1m696/696\u001b[0m \u001b[32m━━━━━━━━━━━━━━━━━━━━\u001b[0m\u001b[37m\u001b[0m \u001b[1m1s\u001b[0m 2ms/step - accuracy: 0.8697 - loss: 0.3079 - val_accuracy: 0.8430 - val_loss: 0.3820\n",
      "Epoch 22/50\n",
      "\u001b[1m696/696\u001b[0m \u001b[32m━━━━━━━━━━━━━━━━━━━━\u001b[0m\u001b[37m\u001b[0m \u001b[1m1s\u001b[0m 2ms/step - accuracy: 0.8664 - loss: 0.3084 - val_accuracy: 0.8420 - val_loss: 0.3820\n",
      "Epoch 23/50\n",
      "\u001b[1m696/696\u001b[0m \u001b[32m━━━━━━━━━━━━━━━━━━━━\u001b[0m\u001b[37m\u001b[0m \u001b[1m1s\u001b[0m 2ms/step - accuracy: 0.8709 - loss: 0.3011 - val_accuracy: 0.8430 - val_loss: 0.3870\n",
      "Epoch 24/50\n",
      "\u001b[1m696/696\u001b[0m \u001b[32m━━━━━━━━━━━━━━━━━━━━\u001b[0m\u001b[37m\u001b[0m \u001b[1m1s\u001b[0m 2ms/step - accuracy: 0.8731 - loss: 0.2988 - val_accuracy: 0.8398 - val_loss: 0.3850\n",
      "Epoch 25/50\n",
      "\u001b[1m696/696\u001b[0m \u001b[32m━━━━━━━━━━━━━━━━━━━━\u001b[0m\u001b[37m\u001b[0m \u001b[1m1s\u001b[0m 2ms/step - accuracy: 0.8733 - loss: 0.2994 - val_accuracy: 0.8378 - val_loss: 0.3917\n",
      "Epoch 26/50\n",
      "\u001b[1m696/696\u001b[0m \u001b[32m━━━━━━━━━━━━━━━━━━━━\u001b[0m\u001b[37m\u001b[0m \u001b[1m1s\u001b[0m 2ms/step - accuracy: 0.8704 - loss: 0.3048 - val_accuracy: 0.8394 - val_loss: 0.3896\n",
      "Epoch 27/50\n",
      "\u001b[1m696/696\u001b[0m \u001b[32m━━━━━━━━━━━━━━━━━━━━\u001b[0m\u001b[37m\u001b[0m \u001b[1m1s\u001b[0m 2ms/step - accuracy: 0.8724 - loss: 0.3031 - val_accuracy: 0.8398 - val_loss: 0.3995\n",
      "Epoch 28/50\n",
      "\u001b[1m696/696\u001b[0m \u001b[32m━━━━━━━━━━━━━━━━━━━━\u001b[0m\u001b[37m\u001b[0m \u001b[1m1s\u001b[0m 2ms/step - accuracy: 0.8759 - loss: 0.2926 - val_accuracy: 0.8405 - val_loss: 0.3917\n",
      "Epoch 29/50\n",
      "\u001b[1m696/696\u001b[0m \u001b[32m━━━━━━━━━━━━━━━━━━━━\u001b[0m\u001b[37m\u001b[0m \u001b[1m2s\u001b[0m 2ms/step - accuracy: 0.8740 - loss: 0.2939 - val_accuracy: 0.8375 - val_loss: 0.3952\n",
      "Epoch 30/50\n",
      "\u001b[1m696/696\u001b[0m \u001b[32m━━━━━━━━━━━━━━━━━━━━\u001b[0m\u001b[37m\u001b[0m \u001b[1m1s\u001b[0m 2ms/step - accuracy: 0.8746 - loss: 0.2923 - val_accuracy: 0.8355 - val_loss: 0.3954\n",
      "Epoch 31/50\n",
      "\u001b[1m696/696\u001b[0m \u001b[32m━━━━━━━━━━━━━━━━━━━━\u001b[0m\u001b[37m\u001b[0m \u001b[1m1s\u001b[0m 2ms/step - accuracy: 0.8716 - loss: 0.2968 - val_accuracy: 0.8371 - val_loss: 0.3939\n",
      "Epoch 32/50\n",
      "\u001b[1m696/696\u001b[0m \u001b[32m━━━━━━━━━━━━━━━━━━━━\u001b[0m\u001b[37m\u001b[0m \u001b[1m1s\u001b[0m 2ms/step - accuracy: 0.8801 - loss: 0.2869 - val_accuracy: 0.8326 - val_loss: 0.4027\n",
      "Epoch 33/50\n",
      "\u001b[1m696/696\u001b[0m \u001b[32m━━━━━━━━━━━━━━━━━━━━\u001b[0m\u001b[37m\u001b[0m \u001b[1m2s\u001b[0m 2ms/step - accuracy: 0.8821 - loss: 0.2773 - val_accuracy: 0.8348 - val_loss: 0.3995\n",
      "Epoch 34/50\n",
      "\u001b[1m696/696\u001b[0m \u001b[32m━━━━━━━━━━━━━━━━━━━━\u001b[0m\u001b[37m\u001b[0m \u001b[1m1s\u001b[0m 2ms/step - accuracy: 0.8786 - loss: 0.2838 - val_accuracy: 0.8335 - val_loss: 0.4058\n",
      "Epoch 35/50\n",
      "\u001b[1m696/696\u001b[0m \u001b[32m━━━━━━━━━━━━━━━━━━━━\u001b[0m\u001b[37m\u001b[0m \u001b[1m1s\u001b[0m 2ms/step - accuracy: 0.8807 - loss: 0.2818 - val_accuracy: 0.8344 - val_loss: 0.4021\n",
      "Epoch 36/50\n",
      "\u001b[1m696/696\u001b[0m \u001b[32m━━━━━━━━━━━━━━━━━━━━\u001b[0m\u001b[37m\u001b[0m \u001b[1m1s\u001b[0m 2ms/step - accuracy: 0.8801 - loss: 0.2830 - val_accuracy: 0.8348 - val_loss: 0.4064\n",
      "Epoch 37/50\n",
      "\u001b[1m696/696\u001b[0m \u001b[32m━━━━━━━━━━━━━━━━━━━━\u001b[0m\u001b[37m\u001b[0m \u001b[1m1s\u001b[0m 2ms/step - accuracy: 0.8805 - loss: 0.2763 - val_accuracy: 0.8332 - val_loss: 0.4048\n",
      "Epoch 38/50\n",
      "\u001b[1m696/696\u001b[0m \u001b[32m━━━━━━━━━━━━━━━━━━━━\u001b[0m\u001b[37m\u001b[0m \u001b[1m1s\u001b[0m 2ms/step - accuracy: 0.8793 - loss: 0.2821 - val_accuracy: 0.8348 - val_loss: 0.4038\n",
      "Epoch 39/50\n",
      "\u001b[1m696/696\u001b[0m \u001b[32m━━━━━━━━━━━━━━━━━━━━\u001b[0m\u001b[37m\u001b[0m \u001b[1m1s\u001b[0m 2ms/step - accuracy: 0.8829 - loss: 0.2781 - val_accuracy: 0.8351 - val_loss: 0.4084\n",
      "Epoch 40/50\n",
      "\u001b[1m696/696\u001b[0m \u001b[32m━━━━━━━━━━━━━━━━━━━━\u001b[0m\u001b[37m\u001b[0m \u001b[1m1s\u001b[0m 2ms/step - accuracy: 0.8831 - loss: 0.2759 - val_accuracy: 0.8314 - val_loss: 0.4120\n",
      "Epoch 41/50\n",
      "\u001b[1m696/696\u001b[0m \u001b[32m━━━━━━━━━━━━━━━━━━━━\u001b[0m\u001b[37m\u001b[0m \u001b[1m1s\u001b[0m 2ms/step - accuracy: 0.8815 - loss: 0.2802 - val_accuracy: 0.8330 - val_loss: 0.4166\n",
      "Epoch 42/50\n",
      "\u001b[1m696/696\u001b[0m \u001b[32m━━━━━━━━━━━━━━━━━━━━\u001b[0m\u001b[37m\u001b[0m \u001b[1m1s\u001b[0m 2ms/step - accuracy: 0.8836 - loss: 0.2727 - val_accuracy: 0.8326 - val_loss: 0.4200\n",
      "Epoch 43/50\n",
      "\u001b[1m696/696\u001b[0m \u001b[32m━━━━━━━━━━━━━━━━━━━━\u001b[0m\u001b[37m\u001b[0m \u001b[1m1s\u001b[0m 2ms/step - accuracy: 0.8882 - loss: 0.2698 - val_accuracy: 0.8349 - val_loss: 0.4187\n",
      "Epoch 44/50\n",
      "\u001b[1m696/696\u001b[0m \u001b[32m━━━━━━━━━━━━━━━━━━━━\u001b[0m\u001b[37m\u001b[0m \u001b[1m1s\u001b[0m 2ms/step - accuracy: 0.8818 - loss: 0.2742 - val_accuracy: 0.8306 - val_loss: 0.4279\n",
      "Epoch 45/50\n",
      "\u001b[1m696/696\u001b[0m \u001b[32m━━━━━━━━━━━━━━━━━━━━\u001b[0m\u001b[37m\u001b[0m \u001b[1m3s\u001b[0m 2ms/step - accuracy: 0.8848 - loss: 0.2694 - val_accuracy: 0.8321 - val_loss: 0.4236\n",
      "Epoch 46/50\n",
      "\u001b[1m696/696\u001b[0m \u001b[32m━━━━━━━━━━━━━━━━━━━━\u001b[0m\u001b[37m\u001b[0m \u001b[1m1s\u001b[0m 2ms/step - accuracy: 0.8847 - loss: 0.2719 - val_accuracy: 0.8346 - val_loss: 0.4322\n",
      "Epoch 47/50\n",
      "\u001b[1m696/696\u001b[0m \u001b[32m━━━━━━━━━━━━━━━━━━━━\u001b[0m\u001b[37m\u001b[0m \u001b[1m1s\u001b[0m 2ms/step - accuracy: 0.8876 - loss: 0.2626 - val_accuracy: 0.8321 - val_loss: 0.4273\n",
      "Epoch 48/50\n",
      "\u001b[1m696/696\u001b[0m \u001b[32m━━━━━━━━━━━━━━━━━━━━\u001b[0m\u001b[37m\u001b[0m \u001b[1m1s\u001b[0m 2ms/step - accuracy: 0.8864 - loss: 0.2660 - val_accuracy: 0.8317 - val_loss: 0.4306\n",
      "Epoch 49/50\n",
      "\u001b[1m696/696\u001b[0m \u001b[32m━━━━━━━━━━━━━━━━━━━━\u001b[0m\u001b[37m\u001b[0m \u001b[1m3s\u001b[0m 2ms/step - accuracy: 0.8894 - loss: 0.2602 - val_accuracy: 0.8326 - val_loss: 0.4340\n",
      "Epoch 50/50\n",
      "\u001b[1m696/696\u001b[0m \u001b[32m━━━━━━━━━━━━━━━━━━━━\u001b[0m\u001b[37m\u001b[0m \u001b[1m1s\u001b[0m 2ms/step - accuracy: 0.8912 - loss: 0.2601 - val_accuracy: 0.8326 - val_loss: 0.4314\n"
     ]
    }
   ],
   "source": [
    "history = model.fit(\n",
    "    X_train_processed, y_train,validation_data=(X_test_processed, y_test),\n",
    "    epochs=50,\n",
    "    batch_size=32,\n",
    "    verbose=1\n",
    ")"
   ]
  },
  {
   "cell_type": "code",
   "execution_count": 6,
   "id": "c4352fa6-8fe6-4903-ad15-ed399ad46318",
   "metadata": {},
   "outputs": [],
   "source": []
  },
  {
   "cell_type": "code",
   "execution_count": 24,
   "id": "6002e844-acb2-4c82-99ca-cf395dd925df",
   "metadata": {},
   "outputs": [
    {
     "name": "stdout",
     "output_type": "stream",
     "text": [
      "X=  4  Y=  5\n"
     ]
    }
   ],
   "source": [
    "x = 5\n",
    "y = 4\n",
    "\n",
    "x = x + y\n",
    "y = x - y\n",
    "x = x - y\n",
    "\n",
    "\n",
    "print(\"X= \",x,\" Y= \", y)"
   ]
  }
 ],
 "metadata": {
  "kernelspec": {
   "display_name": "Python 3 (ipykernel)",
   "language": "python",
   "name": "python3"
  },
  "language_info": {
   "codemirror_mode": {
    "name": "ipython",
    "version": 3
   },
   "file_extension": ".py",
   "mimetype": "text/x-python",
   "name": "python",
   "nbconvert_exporter": "python",
   "pygments_lexer": "ipython3",
   "version": "3.12.3"
  }
 },
 "nbformat": 4,
 "nbformat_minor": 5
}
