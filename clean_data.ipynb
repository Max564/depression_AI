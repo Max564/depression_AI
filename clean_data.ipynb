{
 "cells": [
  {
   "cell_type": "code",
   "execution_count": 1,
   "id": "1e1b42f4-c8f1-4cab-9072-55ad5f641ebd",
   "metadata": {},
   "outputs": [],
   "source": [
    "import numpy as np\n",
    "import pandas as pd\n",
    "import os\n",
    "\n",
    "os.chdir(\"/Users/mostafa/project\")\n",
    "df = pd.read_csv('student_depression_dataset.csv')"
   ]
  },
  {
   "cell_type": "code",
   "execution_count": 2,
   "id": "3f38b8c9-76e7-49e9-81f4-71ca44217289",
   "metadata": {},
   "outputs": [],
   "source": [
    "#Clean City\n",
    "\n",
    "city_uni = df[\"City\"].unique()\n",
    "valid_cities = [\n",
    "    'Visakhapatnam', 'Bangalore', 'Srinagar', 'Varanasi', 'Jaipur',\n",
    "    'Pune', 'Thane', 'Chennai', 'Nagpur', 'Nashik', 'Vadodara',\n",
    "    'Kalyan', 'Rajkot', 'Ahmedabad', 'Kolkata', 'Mumbai', 'Lucknow',\n",
    "    'Indore', 'Surat', 'Ludhiana', 'Bhopal', 'Meerut', 'Agra',\n",
    "    'Ghaziabad', 'Hyderabad', 'Vasai-Virar', 'Kanpur', 'Patna',\n",
    "    'Faridabad', 'Delhi'\n",
    "]\n",
    "invalid_cities = []\n",
    "for i in city_uni:\n",
    "    if i not in valid_cities:\n",
    "        invalid_cities.append(i)\n",
    "\n",
    "fix_invalid_city = invalid_cities.copy()\n",
    "for i in range(len(fix_invalid_city)):\n",
    "    fix_invalid_city[i] = None\n",
    "\n",
    "fix_invalid_city[21] = \"Ghaziabad\"\n",
    "fix_invalid_city[6] = \"Kalyan\"\n",
    "fix_invalid_city[7] = \"Mira-Bhayandar\"\n",
    "\n",
    "for i in range(len(invalid_cities)):\n",
    "    df.loc[df[\"City\"]==invalid_cities[i],\"City\"] = fix_invalid_city[i] \n"
   ]
  },
  {
   "cell_type": "code",
   "execution_count": 3,
   "id": "ef20872e-3d3d-47fb-a2f0-d1745e0238c9",
   "metadata": {},
   "outputs": [],
   "source": [
    "#Clean Profession from wrong data \n",
    "\"\"\"\n",
    "pro_uni = df.Profession.unique()\n",
    "fix_pro_uni = pro_uni.copy()\n",
    "for i in range(len(fix_pro_uni)):\n",
    "    fix_pro_uni[i] = fix_pro_uni[i].replace(\" \",\"_\")\n",
    "    fix_pro_uni[i] = fix_pro_uni[i].replace(\"/\",\"_\")\n",
    "    fix_pro_uni[i] = fix_pro_uni[i].replace(\"'\", \"\")\n",
    "\n",
    "for i in range(len(pro_uni)):\n",
    "    df.loc[df[\"Profession\"]==pro_uni[i],\"Profession\"] = fix_pro_uni[i] \n",
    "\"\"\"\n",
    "\n",
    "# we are gonna use just the student so it's true att all, then you should remove it \n",
    "\n",
    "student = df[\"Profession\"]==\"Student\"\n",
    "df = df[student]\n",
    "df = df.drop(\"Profession\", axis=1)\n"
   ]
  },
  {
   "cell_type": "code",
   "execution_count": 4,
   "id": "0ed079f5-9bbd-4e4c-82bf-313ed8d69606",
   "metadata": {},
   "outputs": [],
   "source": [
    "#Clean sleep_duration\n",
    "sleep_uni = df.loc[:,\"Sleep Duration\"].unique()\n",
    "sleep_tru = ['5-6 hours', \"'Less than 5 hours'\", \"'7-8 hours'\",\n",
    "       'More than 8 hours']\n",
    "comb = []\n",
    "for i in sleep_uni:\n",
    "    comb.append(df[\"Sleep Duration\"] == i)\n",
    "sleepers = (comb[0] | comb[1] |comb[2] | comb[3] )\n",
    "for i in range(4):\n",
    "    df.loc[comb[i],\"Sleep Duration\"] = i\n",
    "df = df[sleepers]"
   ]
  },
  {
   "cell_type": "code",
   "execution_count": 5,
   "id": "98363ccb-0a60-43f1-ba55-c5fd3644c7d6",
   "metadata": {},
   "outputs": [],
   "source": [
    "#Clean Dietary Habit\n",
    "die_uni = df[\"Dietary Habits\"].unique()\n",
    "die_uni[0] = \"Unhealthy\"\n",
    "die_uni[2] = \"Healthy\"\n",
    "for i in range(len(die_uni[0:4])):\n",
    "    df.loc[df[\"Dietary Habits\"]== die_uni[i],[\"Dietary Habits\"]] = i\n",
    "\n",
    "die = df[\"Dietary Habits\"]< 3\n",
    "df= df[die]"
   ]
  },
  {
   "cell_type": "code",
   "execution_count": 6,
   "id": "735bed64-ee02-4f8d-9b9d-b7f134792492",
   "metadata": {},
   "outputs": [],
   "source": [
    "#Clean Degree\n",
    "Degree_uni = df[\"Degree\"].unique()\n",
    "for i in range(len(Degree_uni)):\n",
    "    df.loc[df[\"Degree\"]== Degree_uni[i],[\"Degree\"]] = i"
   ]
  },
  {
   "cell_type": "code",
   "execution_count": 7,
   "id": "523e4db1-7159-4f83-bf84-3d801f2d8be6",
   "metadata": {},
   "outputs": [],
   "source": [
    "#Clean suicidal thoughts\n",
    "df.loc[df[\"Have you ever had suicidal thoughts ?\"]== \"Yes\",[\"Have you ever had suicidal thoughts ?\"]] = 1\n",
    "df.loc[df[\"Have you ever had suicidal thoughts ?\"]== \"No\",[\"Have you ever had suicidal thoughts ?\"]] = 0"
   ]
  },
  {
   "cell_type": "code",
   "execution_count": null,
   "id": "915525d6-33c8-4feb-bfef-df40ea0dd8bb",
   "metadata": {},
   "outputs": [],
   "source": []
  },
  {
   "cell_type": "code",
   "execution_count": 8,
   "id": "aab8ead8-d152-4a97-8d2c-5d88399096b6",
   "metadata": {},
   "outputs": [],
   "source": [
    "#Clean Financial Stress\n",
    "Financial_st = df[\"Financial Stress\"].unique()[0:5]\n",
    "mask = df[\"Financial Stress\"].isin(Financial_st)\n",
    "df = df[mask]\n",
    "\n",
    "df[\"Financial Stress\"] = df[\"Financial Stress\"].apply(float)\n"
   ]
  },
  {
   "cell_type": "code",
   "execution_count": 9,
   "id": "e2526d7b-0249-410a-bd3e-ad0a8c05f5eb",
   "metadata": {},
   "outputs": [],
   "source": [
    "#Clean Family History of Mental Illness\n",
    "df.loc[df[\"Family History of Mental Illness\"]== \"Yes\",[\"Family History of Mental Illness\"]] = 1\n",
    "df.loc[df[\"Family History of Mental Illness\"]== \"No\",[\"Family History of Mental Illness\"]] = 0"
   ]
  },
  {
   "cell_type": "code",
   "execution_count": 10,
   "id": "a81369fc-91b1-4e81-8ee5-8e024c80f5d2",
   "metadata": {},
   "outputs": [],
   "source": [
    "df.to_csv('data.csv', index=False) "
   ]
  }
 ],
 "metadata": {
  "kernelspec": {
   "display_name": "Python 3 (ipykernel)",
   "language": "python",
   "name": "python3"
  },
  "language_info": {
   "codemirror_mode": {
    "name": "ipython",
    "version": 3
   },
   "file_extension": ".py",
   "mimetype": "text/x-python",
   "name": "python",
   "nbconvert_exporter": "python",
   "pygments_lexer": "ipython3",
   "version": "3.12.3"
  }
 },
 "nbformat": 4,
 "nbformat_minor": 5
}
